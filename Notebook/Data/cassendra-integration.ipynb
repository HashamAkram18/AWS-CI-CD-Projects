{
 "cells": [
  {
   "cell_type": "markdown",
   "metadata": {},
   "source": [
    "## Connect with the Python Driver\n",
    "- Install the DataStax Python Driver"
   ]
  },
  {
   "cell_type": "markdown",
   "metadata": {},
   "source": [
    "- Verify that the DataStax Python driver installed successfully:"
   ]
  },
  {
   "cell_type": "code",
   "execution_count": 1,
   "metadata": {},
   "outputs": [
    {
     "name": "stdout",
     "output_type": "stream",
     "text": [
      "3.29.0\n"
     ]
    }
   ],
   "source": [
    "import cassandra\n",
    "print(cassandra.__version__)"
   ]
  },
  {
   "cell_type": "code",
   "execution_count": 4,
   "metadata": {},
   "outputs": [
    {
     "ename": "DependencyException",
     "evalue": "Unable to load a default connection class\nThe following exceptions were observed: \n - The C extension needed to use libev was not found.  This probably means that you didn't have the required build dependencies when installing the driver.  See http://datastax.github.io/python-driver/installation.html#c-extensions for instructions on installing build dependencies and building the C extension.\n - Unable to import asyncore module.  Note that this module has been removed in Python 3.12 so when using the driver with this version (or anything newer) you will need to use one of the other event loop implementations.",
     "output_type": "error",
     "traceback": [
      "\u001b[1;31m---------------------------------------------------------------------------\u001b[0m",
      "\u001b[1;31mDependencyException\u001b[0m                       Traceback (most recent call last)",
      "Cell \u001b[1;32mIn[4], line 3\u001b[0m\n\u001b[0;32m      1\u001b[0m \u001b[38;5;28;01mimport\u001b[39;00m \u001b[38;5;21;01mos\u001b[39;00m\n\u001b[0;32m      2\u001b[0m \u001b[38;5;28;01mimport\u001b[39;00m \u001b[38;5;21;01masyncio\u001b[39;00m\n\u001b[1;32m----> 3\u001b[0m \u001b[38;5;28;01mfrom\u001b[39;00m \u001b[38;5;21;01mcassandra\u001b[39;00m\u001b[38;5;21;01m.\u001b[39;00m\u001b[38;5;21;01mcluster\u001b[39;00m \u001b[38;5;28;01mimport\u001b[39;00m Cluster\n\u001b[0;32m      4\u001b[0m \u001b[38;5;28;01mfrom\u001b[39;00m \u001b[38;5;21;01mdotenv\u001b[39;00m \u001b[38;5;28;01mimport\u001b[39;00m load_dotenv\n\u001b[0;32m      5\u001b[0m \u001b[38;5;28;01mfrom\u001b[39;00m \u001b[38;5;21;01mcassandra\u001b[39;00m\u001b[38;5;21;01m.\u001b[39;00m\u001b[38;5;21;01mauth\u001b[39;00m \u001b[38;5;28;01mimport\u001b[39;00m PlainTextAuthProvider\n",
      "File \u001b[1;32mc:\\Users\\Home\\anaconda3\\envs\\AQI-env\\Lib\\site-packages\\cassandra\\cluster.py:173\u001b[0m, in \u001b[0;36minit cassandra.cluster\u001b[1;34m()\u001b[0m\n",
      "\u001b[1;31mDependencyException\u001b[0m: Unable to load a default connection class\nThe following exceptions were observed: \n - The C extension needed to use libev was not found.  This probably means that you didn't have the required build dependencies when installing the driver.  See http://datastax.github.io/python-driver/installation.html#c-extensions for instructions on installing build dependencies and building the C extension.\n - Unable to import asyncore module.  Note that this module has been removed in Python 3.12 so when using the driver with this version (or anything newer) you will need to use one of the other event loop implementations."
     ]
    }
   ],
   "source": [
    "import os\n",
    "import asyncio\n",
    "from cassandra.cluster import Cluster\n",
    "from dotenv import load_dotenv\n",
    "from cassandra.auth import PlainTextAuthProvider\n",
    "import json\n",
    "\n",
    "# Custom event loop configuration (for Python 3.12 or newer)\n",
    "class CustomEventLoop(asyncio.AbstractEventLoop):\n",
    "    def __init__(self):\n",
    "        super().__init__()\n",
    "\n",
    "    def create_task(self, *args, **kwargs):\n",
    "        return asyncio.create_task(*args, **kwargs, loop=self)\n",
    "\n",
    "loop = CustomEventLoop()\n",
    "cassandra.io.SelectorManager._event_loop = loop\n",
    "\n",
    "# Load environment variables\n",
    "load_dotenv()\n",
    "\n",
    "# Retrieve credentials\n",
    "CLIENT_ID = os.getenv(\"CLIENT_ID\")\n",
    "CLIENT_SECRET = os.getenv(\"CLIENT_SECRET\")\n",
    "SECURE_CONNECT_BUNDLE = os.getenv(\"SECURE_CONNECT_BUNDLE\")\n",
    "\n",
    "# Check for required credentials\n",
    "if not all([CLIENT_ID, CLIENT_SECRET, SECURE_CONNECT_BUNDLE]):\n",
    "    raise ValueError(\"Missing required credentials in .env file!\")\n",
    "\n",
    "# Cluster configuration\n",
    "cloud_config = {'secure_connect_bundle': SECURE_CONNECT_BUNDLE}\n",
    "\n",
    "# Authentication provider\n",
    "auth_provider = PlainTextAuthProvider(CLIENT_ID, CLIENT_SECRET)\n",
    "\n",
    "async def main():\n",
    "    \"\"\"Asynchronous function using trio\"\"\"\n",
    "    try:\n",
    "        # Use connect() with custom loop for Python 3.12 or newer\n",
    "        cluster = Cluster(cloud=cloud_config, auth_provider=auth_provider, loop=loop)\n",
    "        async with cluster.connect() as session:\n",
    "            # Execute your queries here\n",
    "            row = await session.execute(\"select release_version from system.local\").one()\n",
    "            if row:\n",
    "                print(row[0])\n",
    "            else:\n",
    "                print(\"An error occurred.\")\n",
    "    except Exception as e:\n",
    "        print(f\"Error connecting: {e}\")\n",
    "\n",
    "if __name__ == \"__main__\":\n",
    "    import trio\n",
    "    trio.run(main)"
   ]
  },
  {
   "cell_type": "code",
   "execution_count": null,
   "metadata": {},
   "outputs": [],
   "source": []
  }
 ],
 "metadata": {
  "kernelspec": {
   "display_name": "AQI-env",
   "language": "python",
   "name": "python3"
  },
  "language_info": {
   "codemirror_mode": {
    "name": "ipython",
    "version": 3
   },
   "file_extension": ".py",
   "mimetype": "text/x-python",
   "name": "python",
   "nbconvert_exporter": "python",
   "pygments_lexer": "ipython3",
   "version": "3.12.0"
  }
 },
 "nbformat": 4,
 "nbformat_minor": 2
}

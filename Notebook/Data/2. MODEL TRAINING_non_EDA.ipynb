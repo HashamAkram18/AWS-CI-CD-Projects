{
 "cells": [
  {
   "attachments": {},
   "cell_type": "markdown",
   "id": "92e48866",
   "metadata": {},
   "source": [
    "## Model Training"
   ]
  },
  {
   "cell_type": "markdown",
   "id": "25791a74",
   "metadata": {},
   "source": [
    "#### 1.1 Import Data and Required Packages\n",
    "##### Importing Pandas, Numpy, Matplotlib, Seaborn and Warings Library."
   ]
  },
  {
   "cell_type": "code",
   "execution_count": 14,
   "id": "b080dfb2",
   "metadata": {},
   "outputs": [],
   "source": [
    "# Basic Import\n",
    "import numpy as np\n",
    "import pandas as pd\n",
    "import matplotlib.pyplot as plt \n",
    "import seaborn as sns\n",
    "# Modelling\n",
    "from sklearn.metrics import mean_squared_error, r2_score\n",
    "from sklearn.neighbors import KNeighborsRegressor\n",
    "from sklearn.tree import DecisionTreeRegressor\n",
    "from sklearn.ensemble import RandomForestRegressor,AdaBoostRegressor\n",
    "from sklearn.svm import SVR\n",
    "from sklearn.linear_model import LinearRegression, Ridge,Lasso\n",
    "from sklearn.metrics import r2_score, mean_absolute_error, mean_squared_error\n",
    "from sklearn.model_selection import RandomizedSearchCV\n",
    "# from catboost import CatBoostRegressor\n",
    "from xgboost import XGBRegressor\n",
    "import warnings"
   ]
  },
  {
   "cell_type": "markdown",
   "id": "e45079ad",
   "metadata": {},
   "source": [
    "#### Import the CSV Data as Pandas DataFrame"
   ]
  },
  {
   "cell_type": "code",
   "execution_count": 15,
   "id": "e11c6255",
   "metadata": {},
   "outputs": [],
   "source": [
    "df = pd.read_csv('ENB2012_data.csv')\n",
    "df.columns = ['Relative Compactness (ratio)', 'Surface Area(m²)', 'Wall Area(m²)', 'Roof Area(m²)', 'Overall Height (m)', 'Orientation (Degrees)', 'Glazing Area(m²)', 'Glazing Area Distribution (Ratio)','Heating Load (kWh)', 'Cooling Load (kWh)']"
   ]
  },
  {
   "cell_type": "markdown",
   "id": "20634923",
   "metadata": {},
   "source": [
    "#### Show Top 5 Records"
   ]
  },
  {
   "cell_type": "code",
   "execution_count": 16,
   "id": "e7e412a2",
   "metadata": {},
   "outputs": [
    {
     "data": {
      "text/html": [
       "<div>\n",
       "<style scoped>\n",
       "    .dataframe tbody tr th:only-of-type {\n",
       "        vertical-align: middle;\n",
       "    }\n",
       "\n",
       "    .dataframe tbody tr th {\n",
       "        vertical-align: top;\n",
       "    }\n",
       "\n",
       "    .dataframe thead th {\n",
       "        text-align: right;\n",
       "    }\n",
       "</style>\n",
       "<table border=\"1\" class=\"dataframe\">\n",
       "  <thead>\n",
       "    <tr style=\"text-align: right;\">\n",
       "      <th></th>\n",
       "      <th>Relative Compactness (ratio)</th>\n",
       "      <th>Surface Area(m²)</th>\n",
       "      <th>Wall Area(m²)</th>\n",
       "      <th>Roof Area(m²)</th>\n",
       "      <th>Overall Height (m)</th>\n",
       "      <th>Orientation (Degrees)</th>\n",
       "      <th>Glazing Area(m²)</th>\n",
       "      <th>Glazing Area Distribution (Ratio)</th>\n",
       "      <th>Heating Load (kWh)</th>\n",
       "      <th>Cooling Load (kWh)</th>\n",
       "    </tr>\n",
       "  </thead>\n",
       "  <tbody>\n",
       "    <tr>\n",
       "      <th>0</th>\n",
       "      <td>0.98</td>\n",
       "      <td>514.5</td>\n",
       "      <td>294.0</td>\n",
       "      <td>110.25</td>\n",
       "      <td>7.0</td>\n",
       "      <td>2</td>\n",
       "      <td>0.0</td>\n",
       "      <td>0</td>\n",
       "      <td>15.55</td>\n",
       "      <td>21.33</td>\n",
       "    </tr>\n",
       "    <tr>\n",
       "      <th>1</th>\n",
       "      <td>0.98</td>\n",
       "      <td>514.5</td>\n",
       "      <td>294.0</td>\n",
       "      <td>110.25</td>\n",
       "      <td>7.0</td>\n",
       "      <td>3</td>\n",
       "      <td>0.0</td>\n",
       "      <td>0</td>\n",
       "      <td>15.55</td>\n",
       "      <td>21.33</td>\n",
       "    </tr>\n",
       "    <tr>\n",
       "      <th>2</th>\n",
       "      <td>0.98</td>\n",
       "      <td>514.5</td>\n",
       "      <td>294.0</td>\n",
       "      <td>110.25</td>\n",
       "      <td>7.0</td>\n",
       "      <td>4</td>\n",
       "      <td>0.0</td>\n",
       "      <td>0</td>\n",
       "      <td>15.55</td>\n",
       "      <td>21.33</td>\n",
       "    </tr>\n",
       "    <tr>\n",
       "      <th>3</th>\n",
       "      <td>0.98</td>\n",
       "      <td>514.5</td>\n",
       "      <td>294.0</td>\n",
       "      <td>110.25</td>\n",
       "      <td>7.0</td>\n",
       "      <td>5</td>\n",
       "      <td>0.0</td>\n",
       "      <td>0</td>\n",
       "      <td>15.55</td>\n",
       "      <td>21.33</td>\n",
       "    </tr>\n",
       "    <tr>\n",
       "      <th>4</th>\n",
       "      <td>0.90</td>\n",
       "      <td>563.5</td>\n",
       "      <td>318.5</td>\n",
       "      <td>122.50</td>\n",
       "      <td>7.0</td>\n",
       "      <td>2</td>\n",
       "      <td>0.0</td>\n",
       "      <td>0</td>\n",
       "      <td>20.84</td>\n",
       "      <td>28.28</td>\n",
       "    </tr>\n",
       "  </tbody>\n",
       "</table>\n",
       "</div>"
      ],
      "text/plain": [
       "   Relative Compactness (ratio)  Surface Area(m²)  Wall Area(m²)  \\\n",
       "0                          0.98             514.5          294.0   \n",
       "1                          0.98             514.5          294.0   \n",
       "2                          0.98             514.5          294.0   \n",
       "3                          0.98             514.5          294.0   \n",
       "4                          0.90             563.5          318.5   \n",
       "\n",
       "   Roof Area(m²)  Overall Height (m)  Orientation (Degrees)  Glazing Area(m²)  \\\n",
       "0         110.25                 7.0                      2               0.0   \n",
       "1         110.25                 7.0                      3               0.0   \n",
       "2         110.25                 7.0                      4               0.0   \n",
       "3         110.25                 7.0                      5               0.0   \n",
       "4         122.50                 7.0                      2               0.0   \n",
       "\n",
       "   Glazing Area Distribution (Ratio)  Heating Load (kWh)  Cooling Load (kWh)  \n",
       "0                                  0               15.55               21.33  \n",
       "1                                  0               15.55               21.33  \n",
       "2                                  0               15.55               21.33  \n",
       "3                                  0               15.55               21.33  \n",
       "4                                  0               20.84               28.28  "
      ]
     },
     "execution_count": 16,
     "metadata": {},
     "output_type": "execute_result"
    }
   ],
   "source": [
    "df.head()"
   ]
  },
  {
   "cell_type": "markdown",
   "id": "fbd32281",
   "metadata": {},
   "source": [
    "#### Preparing X and Y variables"
   ]
  },
  {
   "cell_type": "code",
   "execution_count": 17,
   "id": "56d72fde",
   "metadata": {},
   "outputs": [],
   "source": [
    "X=df.iloc[:,:-2] ## independent features\n",
    "y=df.iloc[:,-2:] ## dependent features"
   ]
  },
  {
   "cell_type": "code",
   "execution_count": 18,
   "id": "cd613177",
   "metadata": {},
   "outputs": [
    {
     "data": {
      "text/html": [
       "<div>\n",
       "<style scoped>\n",
       "    .dataframe tbody tr th:only-of-type {\n",
       "        vertical-align: middle;\n",
       "    }\n",
       "\n",
       "    .dataframe tbody tr th {\n",
       "        vertical-align: top;\n",
       "    }\n",
       "\n",
       "    .dataframe thead th {\n",
       "        text-align: right;\n",
       "    }\n",
       "</style>\n",
       "<table border=\"1\" class=\"dataframe\">\n",
       "  <thead>\n",
       "    <tr style=\"text-align: right;\">\n",
       "      <th></th>\n",
       "      <th>Relative Compactness (ratio)</th>\n",
       "      <th>Surface Area(m²)</th>\n",
       "      <th>Wall Area(m²)</th>\n",
       "      <th>Roof Area(m²)</th>\n",
       "      <th>Overall Height (m)</th>\n",
       "      <th>Orientation (Degrees)</th>\n",
       "      <th>Glazing Area(m²)</th>\n",
       "      <th>Glazing Area Distribution (Ratio)</th>\n",
       "    </tr>\n",
       "  </thead>\n",
       "  <tbody>\n",
       "    <tr>\n",
       "      <th>0</th>\n",
       "      <td>0.98</td>\n",
       "      <td>514.5</td>\n",
       "      <td>294.0</td>\n",
       "      <td>110.25</td>\n",
       "      <td>7.0</td>\n",
       "      <td>2</td>\n",
       "      <td>0.0</td>\n",
       "      <td>0</td>\n",
       "    </tr>\n",
       "    <tr>\n",
       "      <th>1</th>\n",
       "      <td>0.98</td>\n",
       "      <td>514.5</td>\n",
       "      <td>294.0</td>\n",
       "      <td>110.25</td>\n",
       "      <td>7.0</td>\n",
       "      <td>3</td>\n",
       "      <td>0.0</td>\n",
       "      <td>0</td>\n",
       "    </tr>\n",
       "    <tr>\n",
       "      <th>2</th>\n",
       "      <td>0.98</td>\n",
       "      <td>514.5</td>\n",
       "      <td>294.0</td>\n",
       "      <td>110.25</td>\n",
       "      <td>7.0</td>\n",
       "      <td>4</td>\n",
       "      <td>0.0</td>\n",
       "      <td>0</td>\n",
       "    </tr>\n",
       "    <tr>\n",
       "      <th>3</th>\n",
       "      <td>0.98</td>\n",
       "      <td>514.5</td>\n",
       "      <td>294.0</td>\n",
       "      <td>110.25</td>\n",
       "      <td>7.0</td>\n",
       "      <td>5</td>\n",
       "      <td>0.0</td>\n",
       "      <td>0</td>\n",
       "    </tr>\n",
       "    <tr>\n",
       "      <th>4</th>\n",
       "      <td>0.90</td>\n",
       "      <td>563.5</td>\n",
       "      <td>318.5</td>\n",
       "      <td>122.50</td>\n",
       "      <td>7.0</td>\n",
       "      <td>2</td>\n",
       "      <td>0.0</td>\n",
       "      <td>0</td>\n",
       "    </tr>\n",
       "  </tbody>\n",
       "</table>\n",
       "</div>"
      ],
      "text/plain": [
       "   Relative Compactness (ratio)  Surface Area(m²)  Wall Area(m²)  \\\n",
       "0                          0.98             514.5          294.0   \n",
       "1                          0.98             514.5          294.0   \n",
       "2                          0.98             514.5          294.0   \n",
       "3                          0.98             514.5          294.0   \n",
       "4                          0.90             563.5          318.5   \n",
       "\n",
       "   Roof Area(m²)  Overall Height (m)  Orientation (Degrees)  Glazing Area(m²)  \\\n",
       "0         110.25                 7.0                      2               0.0   \n",
       "1         110.25                 7.0                      3               0.0   \n",
       "2         110.25                 7.0                      4               0.0   \n",
       "3         110.25                 7.0                      5               0.0   \n",
       "4         122.50                 7.0                      2               0.0   \n",
       "\n",
       "   Glazing Area Distribution (Ratio)  \n",
       "0                                  0  \n",
       "1                                  0  \n",
       "2                                  0  \n",
       "3                                  0  \n",
       "4                                  0  "
      ]
     },
     "execution_count": 18,
     "metadata": {},
     "output_type": "execute_result"
    }
   ],
   "source": [
    "X.head()"
   ]
  },
  {
   "cell_type": "code",
   "execution_count": 19,
   "id": "ffc69816",
   "metadata": {},
   "outputs": [
    {
     "data": {
      "text/html": [
       "<div>\n",
       "<style scoped>\n",
       "    .dataframe tbody tr th:only-of-type {\n",
       "        vertical-align: middle;\n",
       "    }\n",
       "\n",
       "    .dataframe tbody tr th {\n",
       "        vertical-align: top;\n",
       "    }\n",
       "\n",
       "    .dataframe thead th {\n",
       "        text-align: right;\n",
       "    }\n",
       "</style>\n",
       "<table border=\"1\" class=\"dataframe\">\n",
       "  <thead>\n",
       "    <tr style=\"text-align: right;\">\n",
       "      <th></th>\n",
       "      <th>Heating Load (kWh)</th>\n",
       "      <th>Cooling Load (kWh)</th>\n",
       "    </tr>\n",
       "  </thead>\n",
       "  <tbody>\n",
       "    <tr>\n",
       "      <th>0</th>\n",
       "      <td>15.55</td>\n",
       "      <td>21.33</td>\n",
       "    </tr>\n",
       "    <tr>\n",
       "      <th>1</th>\n",
       "      <td>15.55</td>\n",
       "      <td>21.33</td>\n",
       "    </tr>\n",
       "    <tr>\n",
       "      <th>2</th>\n",
       "      <td>15.55</td>\n",
       "      <td>21.33</td>\n",
       "    </tr>\n",
       "    <tr>\n",
       "      <th>3</th>\n",
       "      <td>15.55</td>\n",
       "      <td>21.33</td>\n",
       "    </tr>\n",
       "    <tr>\n",
       "      <th>4</th>\n",
       "      <td>20.84</td>\n",
       "      <td>28.28</td>\n",
       "    </tr>\n",
       "  </tbody>\n",
       "</table>\n",
       "</div>"
      ],
      "text/plain": [
       "   Heating Load (kWh)  Cooling Load (kWh)\n",
       "0               15.55               21.33\n",
       "1               15.55               21.33\n",
       "2               15.55               21.33\n",
       "3               15.55               21.33\n",
       "4               20.84               28.28"
      ]
     },
     "execution_count": 19,
     "metadata": {},
     "output_type": "execute_result"
    }
   ],
   "source": [
    "y.head()"
   ]
  },
  {
   "cell_type": "code",
   "execution_count": 20,
   "id": "1e290fe3",
   "metadata": {},
   "outputs": [],
   "source": [
    "# Create Column Transformer with 3 types of transformers\n",
    "num_features = X.select_dtypes(exclude=\"object\").columns\n",
    "cat_features = X.select_dtypes(include=\"object\").columns\n",
    "\n",
    "from sklearn.preprocessing import OneHotEncoder, StandardScaler\n",
    "from sklearn.compose import ColumnTransformer\n",
    "\n",
    "numeric_transformer = StandardScaler()\n",
    "oh_transformer = OneHotEncoder()\n",
    "\n",
    "preprocessor = ColumnTransformer(\n",
    "    [\n",
    "        (\"OneHotEncoder\", oh_transformer, cat_features),\n",
    "         (\"StandardScaler\", numeric_transformer, num_features),        \n",
    "    ]\n",
    ")"
   ]
  },
  {
   "cell_type": "code",
   "execution_count": 21,
   "id": "9c68f99a",
   "metadata": {},
   "outputs": [],
   "source": [
    "X = preprocessor.fit_transform(X)"
   ]
  },
  {
   "cell_type": "code",
   "execution_count": 22,
   "id": "4d44d5a8",
   "metadata": {},
   "outputs": [
    {
     "data": {
      "text/plain": [
       "array([[ 2.04177671, -1.78587489, -0.56195149, ..., -1.34164079,\n",
       "        -1.76044698, -1.81457514],\n",
       "       [ 2.04177671, -1.78587489, -0.56195149, ..., -0.4472136 ,\n",
       "        -1.76044698, -1.81457514],\n",
       "       [ 2.04177671, -1.78587489, -0.56195149, ...,  0.4472136 ,\n",
       "        -1.76044698, -1.81457514],\n",
       "       ...,\n",
       "       [-1.36381225,  1.55394308,  1.12390297, ..., -0.4472136 ,\n",
       "         1.2440492 ,  1.41133622],\n",
       "       [-1.36381225,  1.55394308,  1.12390297, ...,  0.4472136 ,\n",
       "         1.2440492 ,  1.41133622],\n",
       "       [-1.36381225,  1.55394308,  1.12390297, ...,  1.34164079,\n",
       "         1.2440492 ,  1.41133622]])"
      ]
     },
     "execution_count": 22,
     "metadata": {},
     "output_type": "execute_result"
    }
   ],
   "source": [
    "X"
   ]
  },
  {
   "cell_type": "code",
   "execution_count": 23,
   "id": "72459f1d",
   "metadata": {},
   "outputs": [
    {
     "data": {
      "text/plain": [
       "(768, 8)"
      ]
     },
     "execution_count": 23,
     "metadata": {},
     "output_type": "execute_result"
    }
   ],
   "source": [
    "X.shape"
   ]
  },
  {
   "cell_type": "code",
   "execution_count": 24,
   "id": "ed5c4e99",
   "metadata": {},
   "outputs": [
    {
     "data": {
      "text/plain": [
       "((537, 8), (231, 8))"
      ]
     },
     "execution_count": 24,
     "metadata": {},
     "output_type": "execute_result"
    }
   ],
   "source": [
    "# separate dataset into train and test\n",
    "from sklearn.model_selection import train_test_split\n",
    "X_train, X_test, y_train, y_test = train_test_split(X,y,test_size=0.3,random_state=42)\n",
    "X_train.shape, X_test.shape"
   ]
  },
  {
   "cell_type": "markdown",
   "id": "4cd80317",
   "metadata": {},
   "source": [
    "#### Create an Evaluate Function to give all metrics after model Training"
   ]
  },
  {
   "cell_type": "code",
   "execution_count": 25,
   "id": "8c247bd0",
   "metadata": {},
   "outputs": [],
   "source": [
    "def evaluate_model(true, predicted):\n",
    "    mae = mean_absolute_error(true, predicted)\n",
    "    mse = mean_squared_error(true, predicted)\n",
    "    rmse = np.sqrt(mean_squared_error(true, predicted))\n",
    "    r2_square = r2_score(true, predicted)\n",
    "    return mae, rmse, r2_square"
   ]
  },
  {
   "cell_type": "code",
   "execution_count": 26,
   "id": "185183b8",
   "metadata": {},
   "outputs": [
    {
     "name": "stdout",
     "output_type": "stream",
     "text": [
      "Linear Regression\n",
      "Model performance for Training set\n",
      "- Root Mean Squared Error: 3.0416\n",
      "- Mean Absolute Error: 2.1340\n",
      "- R2 Score: 0.9026\n",
      "----------------------------------\n",
      "Model performance for Test set\n",
      "- Root Mean Squared Error: 3.0918\n",
      "- Mean Absolute Error: 2.2082\n",
      "- R2 Score: 0.8994\n",
      "===================================\n",
      "\n",
      "\n",
      "Lasso\n",
      "Model performance for Training set\n",
      "- Root Mean Squared Error: 3.5377\n",
      "- Mean Absolute Error: 2.5931\n",
      "- R2 Score: 0.8684\n",
      "----------------------------------\n",
      "Model performance for Test set\n",
      "- Root Mean Squared Error: 3.5788\n",
      "- Mean Absolute Error: 2.6007\n",
      "- R2 Score: 0.8652\n",
      "===================================\n",
      "\n",
      "\n",
      "Ridge\n",
      "Model performance for Training set\n",
      "- Root Mean Squared Error: 3.0451\n",
      "- Mean Absolute Error: 2.1325\n",
      "- R2 Score: 0.9024\n",
      "----------------------------------\n",
      "Model performance for Test set\n",
      "- Root Mean Squared Error: 3.0955\n",
      "- Mean Absolute Error: 2.2057\n",
      "- R2 Score: 0.8992\n",
      "===================================\n",
      "\n",
      "\n",
      "K-Neighbors Regressor\n",
      "Model performance for Training set\n",
      "- Root Mean Squared Error: 2.0385\n",
      "- Mean Absolute Error: 1.3201\n",
      "- R2 Score: 0.9562\n",
      "----------------------------------\n",
      "Model performance for Test set\n",
      "- Root Mean Squared Error: 2.5847\n",
      "- Mean Absolute Error: 1.7044\n",
      "- R2 Score: 0.9295\n",
      "===================================\n",
      "\n",
      "\n",
      "Decision Tree\n",
      "Model performance for Training set\n",
      "- Root Mean Squared Error: 0.0000\n",
      "- Mean Absolute Error: 0.0000\n",
      "- R2 Score: 1.0000\n",
      "----------------------------------\n",
      "Model performance for Test set\n",
      "- Root Mean Squared Error: 1.4243\n",
      "- Mean Absolute Error: 0.7342\n",
      "- R2 Score: 0.9777\n",
      "===================================\n",
      "\n",
      "\n",
      "Random Forest Regressor\n",
      "Model performance for Training set\n",
      "- Root Mean Squared Error: 0.4723\n",
      "- Mean Absolute Error: 0.2526\n",
      "- R2 Score: 0.9975\n",
      "----------------------------------\n",
      "Model performance for Test set\n",
      "- Root Mean Squared Error: 1.2258\n",
      "- Mean Absolute Error: 0.6810\n",
      "- R2 Score: 0.9835\n",
      "===================================\n",
      "\n",
      "\n",
      "XGBRegressor\n",
      "Model performance for Training set\n",
      "- Root Mean Squared Error: 0.0721\n",
      "- Mean Absolute Error: 0.0454\n",
      "- R2 Score: 0.9999\n",
      "----------------------------------\n",
      "Model performance for Test set\n",
      "- Root Mean Squared Error: 0.7041\n",
      "- Mean Absolute Error: 0.4048\n",
      "- R2 Score: 0.9946\n",
      "===================================\n",
      "\n",
      "\n",
      "AdaBoost Regressor\n",
      "Model performance for Training set\n",
      "- Root Mean Squared Error: 2.2449\n",
      "- Mean Absolute Error: 1.7797\n",
      "- R2 Score: 0.9467\n",
      "----------------------------------\n",
      "Model performance for Test set\n",
      "- Root Mean Squared Error: 2.3733\n",
      "- Mean Absolute Error: 1.8730\n",
      "- R2 Score: 0.9405\n",
      "===================================\n",
      "\n",
      "\n"
     ]
    }
   ],
   "source": [
    "from sklearn.multioutput import MultiOutputRegressor\n",
    "\n",
    "models = {\n",
    "    \"Linear Regression\": LinearRegression(),\n",
    "    \"Lasso\": Lasso(),\n",
    "    \"Ridge\": Ridge(),\n",
    "    \"K-Neighbors Regressor\": KNeighborsRegressor(),\n",
    "    \"Decision Tree\": DecisionTreeRegressor(),\n",
    "    \"Random Forest Regressor\": RandomForestRegressor(),\n",
    "    \"XGBRegressor\": XGBRegressor(), \n",
    "    \"AdaBoost Regressor\": AdaBoostRegressor()\n",
    "}\n",
    "\n",
    "model_list = []\n",
    "r2_list = []\n",
    "\n",
    "for model_name, model in models.items():\n",
    "    multi_output_model = MultiOutputRegressor(model)\n",
    "    multi_output_model.fit(X_train, y_train)  # Train model\n",
    "\n",
    "    # Make predictions\n",
    "    y_train_pred = multi_output_model.predict(X_train)\n",
    "    y_test_pred = multi_output_model.predict(X_test)\n",
    "\n",
    "    # Evaluate Train and Test dataset\n",
    "    model_train_mae, model_train_rmse, model_train_r2 = evaluate_model(y_train, y_train_pred)\n",
    "    model_test_mae, model_test_rmse, model_test_r2 = evaluate_model(y_test, y_test_pred)\n",
    "\n",
    "    print(model_name)\n",
    "    model_list.append(model_name)\n",
    "\n",
    "    print('Model performance for Training set')\n",
    "    print(\"- Root Mean Squared Error: {:.4f}\".format(model_train_rmse))\n",
    "    print(\"- Mean Absolute Error: {:.4f}\".format(model_train_mae))\n",
    "    print(\"- R2 Score: {:.4f}\".format(model_train_r2))\n",
    "\n",
    "    print('----------------------------------')\n",
    "\n",
    "    print('Model performance for Test set')\n",
    "    print(\"- Root Mean Squared Error: {:.4f}\".format(model_test_rmse))\n",
    "    print(\"- Mean Absolute Error: {:.4f}\".format(model_test_mae))\n",
    "    print(\"- R2 Score: {:.4f}\".format(model_test_r2))\n",
    "    r2_list.append(model_test_r2)\n",
    "\n",
    "    print('='*35)\n",
    "    print('\\n')\n"
   ]
  },
  {
   "cell_type": "markdown",
   "id": "06480b5a",
   "metadata": {},
   "source": [
    "### Results"
   ]
  },
  {
   "cell_type": "code",
   "execution_count": 134,
   "id": "e0159e5f",
   "metadata": {},
   "outputs": [
    {
     "data": {
      "text/html": [
       "<div>\n",
       "<style scoped>\n",
       "    .dataframe tbody tr th:only-of-type {\n",
       "        vertical-align: middle;\n",
       "    }\n",
       "\n",
       "    .dataframe tbody tr th {\n",
       "        vertical-align: top;\n",
       "    }\n",
       "\n",
       "    .dataframe thead th {\n",
       "        text-align: right;\n",
       "    }\n",
       "</style>\n",
       "<table border=\"1\" class=\"dataframe\">\n",
       "  <thead>\n",
       "    <tr style=\"text-align: right;\">\n",
       "      <th></th>\n",
       "      <th>Model Name</th>\n",
       "      <th>R2_Score</th>\n",
       "    </tr>\n",
       "  </thead>\n",
       "  <tbody>\n",
       "    <tr>\n",
       "      <th>6</th>\n",
       "      <td>XGBRegressor</td>\n",
       "      <td>0.993664</td>\n",
       "    </tr>\n",
       "    <tr>\n",
       "      <th>5</th>\n",
       "      <td>Random Forest Regressor</td>\n",
       "      <td>0.982530</td>\n",
       "    </tr>\n",
       "    <tr>\n",
       "      <th>4</th>\n",
       "      <td>Decision Tree</td>\n",
       "      <td>0.973816</td>\n",
       "    </tr>\n",
       "    <tr>\n",
       "      <th>7</th>\n",
       "      <td>AdaBoost Regressor</td>\n",
       "      <td>0.945076</td>\n",
       "    </tr>\n",
       "    <tr>\n",
       "      <th>0</th>\n",
       "      <td>Linear Regression</td>\n",
       "      <td>0.903111</td>\n",
       "    </tr>\n",
       "    <tr>\n",
       "      <th>2</th>\n",
       "      <td>Ridge</td>\n",
       "      <td>0.900469</td>\n",
       "    </tr>\n",
       "    <tr>\n",
       "      <th>3</th>\n",
       "      <td>K-Neighbors Regressor</td>\n",
       "      <td>0.889713</td>\n",
       "    </tr>\n",
       "    <tr>\n",
       "      <th>1</th>\n",
       "      <td>Lasso</td>\n",
       "      <td>0.830206</td>\n",
       "    </tr>\n",
       "  </tbody>\n",
       "</table>\n",
       "</div>"
      ],
      "text/plain": [
       "                Model Name  R2_Score\n",
       "6             XGBRegressor  0.993664\n",
       "5  Random Forest Regressor  0.982530\n",
       "4            Decision Tree  0.973816\n",
       "7       AdaBoost Regressor  0.945076\n",
       "0        Linear Regression  0.903111\n",
       "2                    Ridge  0.900469\n",
       "3    K-Neighbors Regressor  0.889713\n",
       "1                    Lasso  0.830206"
      ]
     },
     "execution_count": 134,
     "metadata": {},
     "output_type": "execute_result"
    }
   ],
   "source": [
    "pd.DataFrame(list(zip(model_list, r2_list)), columns=['Model Name', 'R2_Score']).sort_values(by=[\"R2_Score\"],ascending=False)"
   ]
  },
  {
   "cell_type": "markdown",
   "id": "f3504f42",
   "metadata": {},
   "source": [
    "# XGBRegressor"
   ]
  },
  {
   "cell_type": "code",
   "execution_count": 135,
   "id": "b4296b7a",
   "metadata": {},
   "outputs": [
    {
     "name": "stdout",
     "output_type": "stream",
     "text": [
      "Accuracy of XGBoost Regressor: 99.36\n"
     ]
    },
    {
     "name": "stderr",
     "output_type": "stream",
     "text": [
      "C:\\Users\\Home\\AppData\\Local\\Temp\\ipykernel_12664\\3078674926.py:12: UserWarning: \n",
      "\n",
      "`distplot` is a deprecated function and will be removed in seaborn v0.14.0.\n",
      "\n",
      "Please adapt your code to use either `displot` (a figure-level function with\n",
      "similar flexibility) or `histplot` (an axes-level function for histograms).\n",
      "\n",
      "For a guide to updating your code to use the new functions, please see\n",
      "https://gist.github.com/mwaskom/de44147ed2974457ad6372750bbe5751\n",
      "\n",
      "  sns.distplot(y_test-y_pred_xgb)\n"
     ]
    },
    {
     "data": {
      "text/plain": [
       "<Axes: ylabel='Density'>"
      ]
     },
     "execution_count": 135,
     "metadata": {},
     "output_type": "execute_result"
    },
    {
     "data": {
      "image/png": "[encoded data removed]",
      "text/plain": [
       "<Figure size 640x480 with 1 Axes>"
      ]
     },
     "metadata": {},
     "output_type": "display_data"
    }
   ],
   "source": [
    "# Create XGBoost Regressor model\n",
    "xgb_model = XGBRegressor()\n",
    "xgb_model.fit(X_train, y_train)\n",
    "\n",
    "# Make predictions\n",
    "y_pred_xgb = xgb_model.predict(X_test)\n",
    "\n",
    "# Evaluate the model\n",
    "score_xgb = r2_score(y_test, y_pred_xgb) * 100\n",
    "print(\"Accuracy of XGBoost Regressor: %.2f\" % score_xgb)\n",
    "\n",
    "sns.distplot(y_test-y_pred_xgb)"
   ]
  },
  {
   "cell_type": "code",
   "execution_count": 136,
   "id": "ec5c4aa4",
   "metadata": {},
   "outputs": [
    {
     "data": {
      "text/plain": [
       "0.9686807125414498"
      ]
     },
     "execution_count": 136,
     "metadata": {},
     "output_type": "execute_result"
    }
   ],
   "source": [
    "from sklearn.model_selection import cross_val_score\n",
    "score=cross_val_score(xgb_model,X,y,cv=5)\n",
    "score.mean()"
   ]
  },
  {
   "cell_type": "markdown",
   "id": "1d31453e",
   "metadata": {},
   "source": [
    "## Plot y_pred and y_test"
   ]
  },
  {
   "cell_type": "code",
   "execution_count": 137,
   "id": "eb557b0a",
   "metadata": {},
   "outputs": [
    {
     "data": {
      "text/plain": [
       "Text(0, 0.5, 'Predicted')"
      ]
     },
     "execution_count": 137,
     "metadata": {},
     "output_type": "execute_result"
    },
    {
     "data": {
      "image/png": "[encoded data removed]",
      "text/plain": [
       "<Figure size 640x480 with 1 Axes>"
      ]
     },
     "metadata": {},
     "output_type": "display_data"
    }
   ],
   "source": [
    "plt.scatter(y_test,y_pred_xgb)\n",
    "plt.xlabel('Actual')\n",
    "plt.ylabel('Predicted')"
   ]
  },
  {
   "cell_type": "code",
   "execution_count": 138,
   "id": "bf223f4b",
   "metadata": {},
   "outputs": [
    {
     "data": {
      "text/plain": [
       "Heating Load (kWh)    float64\n",
       "Cooling Load (kWh)    float64\n",
       "dtype: object"
      ]
     },
     "execution_count": 138,
     "metadata": {},
     "output_type": "execute_result"
    }
   ],
   "source": [
    "y_test.dtypes"
   ]
  },
  {
   "cell_type": "code",
   "execution_count": 139,
   "id": "1e707ec3",
   "metadata": {},
   "outputs": [
    {
     "data": {
      "image/png": "[encoded data removed]",
      "text/plain": [
       "<Figure size 640x480 with 1 Axes>"
      ]
     },
     "metadata": {},
     "output_type": "display_data"
    }
   ],
   "source": [
    "# Flatten y_test and y_pred\n",
    "y_test_flat = y_test.values.flatten()\n",
    "y_pred_flat = y_pred_xgb.flatten()\n",
    "\n",
    "# Plot\n",
    "sns.regplot(x=y_test_flat, y=y_pred_flat, ci=None, color='red')\n",
    "plt.xlabel('Actual Values')\n",
    "plt.ylabel('Predicted Values')\n",
    "plt.title('Regression Plot')\n",
    "plt.show()\n"
   ]
  },
  {
   "cell_type": "markdown",
   "id": "79c2fe28",
   "metadata": {},
   "source": [
    "#### Difference between Actual and Predicted Values"
   ]
  },
  {
   "cell_type": "code",
   "execution_count": 140,
   "id": "00eeca35",
   "metadata": {},
   "outputs": [
    {
     "data": {
      "text/html": [
       "<div>\n",
       "<style scoped>\n",
       "    .dataframe tbody tr th:only-of-type {\n",
       "        vertical-align: middle;\n",
       "    }\n",
       "\n",
       "    .dataframe tbody tr th {\n",
       "        vertical-align: top;\n",
       "    }\n",
       "\n",
       "    .dataframe thead th {\n",
       "        text-align: right;\n",
       "    }\n",
       "</style>\n",
       "<table border=\"1\" class=\"dataframe\">\n",
       "  <thead>\n",
       "    <tr style=\"text-align: right;\">\n",
       "      <th></th>\n",
       "      <th>Actual Value - Heating</th>\n",
       "      <th>Predicted Value - Heating</th>\n",
       "      <th>Difference - Heating</th>\n",
       "      <th>Actual Value - Cooling</th>\n",
       "      <th>Predicted Value - Cooling</th>\n",
       "      <th>Difference - Cooling</th>\n",
       "    </tr>\n",
       "  </thead>\n",
       "  <tbody>\n",
       "    <tr>\n",
       "      <th>0</th>\n",
       "      <td>16.47</td>\n",
       "      <td>16.233847</td>\n",
       "      <td>0.236153</td>\n",
       "      <td>16.90</td>\n",
       "      <td>16.549847</td>\n",
       "      <td>0.350153</td>\n",
       "    </tr>\n",
       "    <tr>\n",
       "      <th>1</th>\n",
       "      <td>13.17</td>\n",
       "      <td>13.224684</td>\n",
       "      <td>-0.054684</td>\n",
       "      <td>16.39</td>\n",
       "      <td>15.968356</td>\n",
       "      <td>0.421644</td>\n",
       "    </tr>\n",
       "    <tr>\n",
       "      <th>2</th>\n",
       "      <td>32.82</td>\n",
       "      <td>32.362553</td>\n",
       "      <td>0.457447</td>\n",
       "      <td>32.78</td>\n",
       "      <td>32.728474</td>\n",
       "      <td>0.051526</td>\n",
       "    </tr>\n",
       "    <tr>\n",
       "      <th>3</th>\n",
       "      <td>41.32</td>\n",
       "      <td>41.831665</td>\n",
       "      <td>-0.511665</td>\n",
       "      <td>46.23</td>\n",
       "      <td>45.681179</td>\n",
       "      <td>0.548821</td>\n",
       "    </tr>\n",
       "    <tr>\n",
       "      <th>4</th>\n",
       "      <td>16.69</td>\n",
       "      <td>16.894554</td>\n",
       "      <td>-0.204554</td>\n",
       "      <td>19.76</td>\n",
       "      <td>19.977955</td>\n",
       "      <td>-0.217955</td>\n",
       "    </tr>\n",
       "    <tr>\n",
       "      <th>...</th>\n",
       "      <td>...</td>\n",
       "      <td>...</td>\n",
       "      <td>...</td>\n",
       "      <td>...</td>\n",
       "      <td>...</td>\n",
       "      <td>...</td>\n",
       "    </tr>\n",
       "    <tr>\n",
       "      <th>226</th>\n",
       "      <td>19.12</td>\n",
       "      <td>19.138748</td>\n",
       "      <td>-0.018748</td>\n",
       "      <td>21.93</td>\n",
       "      <td>22.490011</td>\n",
       "      <td>-0.560011</td>\n",
       "    </tr>\n",
       "    <tr>\n",
       "      <th>227</th>\n",
       "      <td>28.86</td>\n",
       "      <td>28.789320</td>\n",
       "      <td>0.070680</td>\n",
       "      <td>32.83</td>\n",
       "      <td>32.391293</td>\n",
       "      <td>0.438707</td>\n",
       "    </tr>\n",
       "    <tr>\n",
       "      <th>228</th>\n",
       "      <td>32.09</td>\n",
       "      <td>32.160896</td>\n",
       "      <td>-0.070896</td>\n",
       "      <td>31.70</td>\n",
       "      <td>31.613058</td>\n",
       "      <td>0.086942</td>\n",
       "    </tr>\n",
       "    <tr>\n",
       "      <th>229</th>\n",
       "      <td>17.35</td>\n",
       "      <td>17.429714</td>\n",
       "      <td>-0.079714</td>\n",
       "      <td>21.19</td>\n",
       "      <td>20.731775</td>\n",
       "      <td>0.458225</td>\n",
       "    </tr>\n",
       "    <tr>\n",
       "      <th>230</th>\n",
       "      <td>26.97</td>\n",
       "      <td>26.697807</td>\n",
       "      <td>0.272193</td>\n",
       "      <td>27.25</td>\n",
       "      <td>27.401865</td>\n",
       "      <td>-0.151865</td>\n",
       "    </tr>\n",
       "  </tbody>\n",
       "</table>\n",
       "<p>231 rows × 6 columns</p>\n",
       "</div>"
      ],
      "text/plain": [
       "     Actual Value - Heating  Predicted Value - Heating  Difference - Heating  \\\n",
       "0                     16.47                  16.233847              0.236153   \n",
       "1                     13.17                  13.224684             -0.054684   \n",
       "2                     32.82                  32.362553              0.457447   \n",
       "3                     41.32                  41.831665             -0.511665   \n",
       "4                     16.69                  16.894554             -0.204554   \n",
       "..                      ...                        ...                   ...   \n",
       "226                   19.12                  19.138748             -0.018748   \n",
       "227                   28.86                  28.789320              0.070680   \n",
       "228                   32.09                  32.160896             -0.070896   \n",
       "229                   17.35                  17.429714             -0.079714   \n",
       "230                   26.97                  26.697807              0.272193   \n",
       "\n",
       "     Actual Value - Cooling  Predicted Value - Cooling  Difference - Cooling  \n",
       "0                     16.90                  16.549847              0.350153  \n",
       "1                     16.39                  15.968356              0.421644  \n",
       "2                     32.78                  32.728474              0.051526  \n",
       "3                     46.23                  45.681179              0.548821  \n",
       "4                     19.76                  19.977955             -0.217955  \n",
       "..                      ...                        ...                   ...  \n",
       "226                   21.93                  22.490011             -0.560011  \n",
       "227                   32.83                  32.391293              0.438707  \n",
       "228                   31.70                  31.613058              0.086942  \n",
       "229                   21.19                  20.731775              0.458225  \n",
       "230                   27.25                  27.401865             -0.151865  \n",
       "\n",
       "[231 rows x 6 columns]"
      ]
     },
     "execution_count": 140,
     "metadata": {},
     "output_type": "execute_result"
    }
   ],
   "source": [
    "import pandas as pd\n",
    "\n",
    "# Assuming 'Heating Load (kWh)' and 'Cooling Load (kWh)' are your target columns\n",
    "target_columns = ['Heating Load (kWh)', 'Cooling Load (kWh)']\n",
    "\n",
    "# Assuming y_test and y_pred are DataFrames with the same structure\n",
    "pred_df = pd.DataFrame({\n",
    "    'Actual Value - Heating': y_test[target_columns[0]].values,\n",
    "    'Predicted Value - Heating': y_pred_xgb[:, 0],  # Assuming the first column corresponds to the first target variable\n",
    "    'Difference - Heating': y_test[target_columns[0]].values - y_pred_xgb[:, 0],\n",
    "    'Actual Value - Cooling': y_test[target_columns[1]].values,\n",
    "    'Predicted Value - Cooling': y_pred_xgb[:, 1],  # Assuming the second column corresponds to the second target variable\n",
    "    'Difference - Cooling': y_test[target_columns[1]].values - y_pred_xgb[:, 1],\n",
    "})\n",
    "pred_df"
   ]
  },
  {
   "cell_type": "code",
   "execution_count": 141,
   "id": "c8baa55c",
   "metadata": {},
   "outputs": [],
   "source": [
    "import pickle\n",
    "\n",
    "# open a file, where you ant to store the data\n",
    "file = open('XGBRegressor_model.pkl', 'wb')\n",
    "\n",
    "# dump information to that file\n",
    "pickle.dump(xgb_model, file)"
   ]
  }
 ],
 "metadata": {
  "kernelspec": {
   "display_name": "Python 3 (ipykernel)",
   "language": "python",
   "name": "python3"
  },
  "language_info": {
   "codemirror_mode": {
    "name": "ipython",
    "version": 3
   },
   "file_extension": ".py",
   "mimetype": "text/x-python",
   "name": "python",
   "nbconvert_exporter": "python",
   "pygments_lexer": "ipython3",
   "version": "3.12.0"
  }
 },
 "nbformat": 4,
 "nbformat_minor": 5
}
